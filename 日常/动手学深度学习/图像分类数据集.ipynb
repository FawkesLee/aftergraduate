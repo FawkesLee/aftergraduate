{
 "cells": [
  {
   "cell_type": "code",
   "execution_count": 2,
   "source": [
    "%matplotlib inline\r\n",
    "import torch\r\n",
    "import torchvision\r\n",
    "from torch.utils import data\r\n",
    "from torchvision import transforms\r\n",
    "from d2l import torch as d2l\r\n",
    "\r\n",
    "d2l.use_svg_display()"
   ],
   "outputs": [],
   "metadata": {}
  },
  {
   "cell_type": "code",
   "execution_count": 4,
   "source": [
    "# 通过ToTensor实例将图像数据从PIL类型变换成32位浮点数格式\r\n",
    "# 并除以255使得所有像素的数值均在0到1之间\r\n",
    "trans = transforms.ToTensor()\r\n",
    "mnist_train = torchvision.datasets.FashionMNIST(root=\"./data\", train=True, transform=trans, download=True)\r\n",
    "mnist_test = torchvision.datasets.FashionMNIST(root=\"./data\", train=False, transform=trans, download=True)"
   ],
   "outputs": [
    {
     "output_type": "stream",
     "name": "stdout",
     "text": [
      "Downloading http://fashion-mnist.s3-website.eu-central-1.amazonaws.com/train-images-idx3-ubyte.gz\n",
      "Using downloaded and verified file: ./data\\FashionMNIST\\raw\\train-images-idx3-ubyte.gz\n",
      "Extracting ./data\\FashionMNIST\\raw\\train-images-idx3-ubyte.gz to ./data\\FashionMNIST\\raw\n",
      "\n",
      "Downloading http://fashion-mnist.s3-website.eu-central-1.amazonaws.com/train-labels-idx1-ubyte.gz\n",
      "Using downloaded and verified file: ./data\\FashionMNIST\\raw\\train-labels-idx1-ubyte.gz\n",
      "Extracting ./data\\FashionMNIST\\raw\\train-labels-idx1-ubyte.gz to ./data\\FashionMNIST\\raw\n",
      "\n",
      "Downloading http://fashion-mnist.s3-website.eu-central-1.amazonaws.com/t10k-images-idx3-ubyte.gz\n",
      "Using downloaded and verified file: ./data\\FashionMNIST\\raw\\t10k-images-idx3-ubyte.gz\n",
      "Extracting ./data\\FashionMNIST\\raw\\t10k-images-idx3-ubyte.gz to ./data\\FashionMNIST\\raw\n",
      "\n",
      "Downloading http://fashion-mnist.s3-website.eu-central-1.amazonaws.com/t10k-labels-idx1-ubyte.gz\n",
      "Using downloaded and verified file: ./data\\FashionMNIST\\raw\\t10k-labels-idx1-ubyte.gz\n",
      "Extracting ./data\\FashionMNIST\\raw\\t10k-labels-idx1-ubyte.gz to ./data\\FashionMNIST\\raw\n",
      "\n"
     ]
    },
    {
     "output_type": "stream",
     "name": "stderr",
     "text": [
      "C:\\ProgramData\\Anaconda3\\lib\\site-packages\\torchvision\\datasets\\mnist.py:498: UserWarning: The given NumPy array is not writeable, and PyTorch does not support non-writeable tensors. This means you can write to the underlying (supposedly non-writeable) NumPy array using the tensor. You may want to copy the array to protect its data or make it writeable before converting it to a tensor. This type of warning will be suppressed for the rest of this program. (Triggered internally at  ..\\torch\\csrc\\utils\\tensor_numpy.cpp:180.)\n",
      "  return torch.from_numpy(parsed.astype(m[2], copy=False)).view(*s)\n"
     ]
    }
   ],
   "metadata": {}
  },
  {
   "cell_type": "code",
   "execution_count": 6,
   "source": [
    "#测试数据集只用于评估模型性能\r\n",
    "len(mnist_train),len(mnist_test)"
   ],
   "outputs": [
    {
     "output_type": "execute_result",
     "data": {
      "text/plain": [
       "(60000, 10000)"
      ]
     },
     "metadata": {},
     "execution_count": 6
    }
   ],
   "metadata": {}
  },
  {
   "cell_type": "code",
   "execution_count": 9,
   "source": [
    "mnist_train[0][0].shape"
   ],
   "outputs": [
    {
     "output_type": "execute_result",
     "data": {
      "text/plain": [
       "torch.Size([1, 28, 28])"
      ]
     },
     "metadata": {},
     "execution_count": 9
    }
   ],
   "metadata": {}
  },
  {
   "cell_type": "code",
   "execution_count": 10,
   "source": [
    "#实现数字标签索引及其文本名称之间的转换\r\n",
    "def get_fashion_mnist_labels(labels):  #@save\r\n",
    "    \"\"\"返回Fashion-MNIST数据集的文本标签。\"\"\"\r\n",
    "    text_labels = ['t-shirt', 'trouser', 'pullover', 'dress', 'coat',\r\n",
    "                   'sandal', 'shirt', 'sneaker', 'bag', 'ankle boot']\r\n",
    "    return [text_labels[int(i)] for i in labels]\r\n",
    "#创建函数可视化样本\r\n",
    "def show_images(imgs, num_rows, num_cols, titles=None, scale=1.5):  #@save\r\n",
    "    \"\"\"Plot a list of images.\"\"\"\r\n",
    "    figsize = (num_cols * scale, num_rows * scale)\r\n",
    "    _, axes = d2l.plt.subplots(num_rows, num_cols, figsize=figsize)\r\n",
    "    axes = axes.flatten()\r\n",
    "    for i, (ax, img) in enumerate(zip(axes, imgs)):\r\n",
    "        if torch.is_tensor(img):\r\n",
    "            # 图片张量\r\n",
    "            ax.imshow(img.numpy())\r\n",
    "        else:\r\n",
    "            # PIL图片\r\n",
    "            ax.imshow(img)\r\n",
    "        ax.axes.get_xaxis().set_visible(False)\r\n",
    "        ax.axes.get_yaxis().set_visible(False)\r\n",
    "        if titles:\r\n",
    "            ax.set_title(titles[i])\r\n",
    "    return axes\r\n",
    "X, y = next(iter(data.DataLoader(mnist_train, batch_size=18)))\r\n",
    "show_images(X.reshape(18, 28, 28), 2, 9, titles=get_fashion_mnist_labels(y))"
   ],
   "outputs": [],
   "metadata": {}
  },
  {
   "cell_type": "markdown",
   "source": [
    "## 读取小批量"
   ],
   "metadata": {}
  },
  {
   "cell_type": "code",
   "execution_count": 15,
   "source": [
    "batch_size = 256\r\n",
    "def get_dataloader_workers():  #@save\r\n",
    "    \"\"\"使用4个进程来读取数据。\"\"\"\r\n",
    "    return 4\r\n",
    "\r\n",
    "train_iter = data.DataLoader(mnist_train, batch_size, shuffle=True,\r\n",
    "                             num_workers=get_dataloader_workers())"
   ],
   "outputs": [],
   "metadata": {}
  },
  {
   "cell_type": "markdown",
   "source": [
    "## 整合组件"
   ],
   "metadata": {}
  },
  {
   "cell_type": "code",
   "execution_count": 16,
   "source": [
    "def load_data_fashion_mnist(batch_size, resize=None):  #@save\r\n",
    "    \"\"\"下载Fashion-MNIST数据集，然后将其加载到内存中。\"\"\"\r\n",
    "    trans = [transforms.ToTensor()]\r\n",
    "    if resize:\r\n",
    "        trans.insert(0, transforms.Resize(resize))\r\n",
    "    trans = transforms.Compose(trans)\r\n",
    "    mnist_train = torchvision.datasets.FashionMNIST(\r\n",
    "        root=\"./data\", train=True, transform=trans, download=True)\r\n",
    "    mnist_test = torchvision.datasets.FashionMNIST(\r\n",
    "        root=\"./data\", train=False, transform=trans, download=True)\r\n",
    "    return (data.DataLoader(mnist_train, batch_size, shuffle=True,\r\n",
    "                            num_workers=get_dataloader_workers()),\r\n",
    "            data.DataLoader(mnist_test, batch_size, shuffle=False,\r\n",
    "                            num_workers=get_dataloader_workers()))\r\n",
    "#通过指定resize参数来测试load_data_fashion_mnist函数的图像大小调整功能\r\n",
    "train_iter, test_iter = load_data_fashion_mnist(32, resize=64)\r\n",
    "for X, y in train_iter:\r\n",
    "    print(X.shape, X.dtype, y.shape, y.dtype)\r\n",
    "    break"
   ],
   "outputs": [
    {
     "output_type": "stream",
     "name": "stdout",
     "text": [
      "torch.Size([32, 1, 64, 64]) torch.float32 torch.Size([32]) torch.int64\n"
     ]
    }
   ],
   "metadata": {}
  },
  {
   "cell_type": "code",
   "execution_count": null,
   "source": [],
   "outputs": [],
   "metadata": {}
  }
 ],
 "metadata": {
  "orig_nbformat": 4,
  "language_info": {
   "name": "python",
   "version": "3.8.11",
   "mimetype": "text/x-python",
   "codemirror_mode": {
    "name": "ipython",
    "version": 3
   },
   "pygments_lexer": "ipython3",
   "nbconvert_exporter": "python",
   "file_extension": ".py"
  },
  "kernelspec": {
   "name": "python3",
   "display_name": "Python 3.8.11 64-bit ('base': conda)"
  },
  "interpreter": {
   "hash": "b3ba2566441a7c06988d0923437866b63cedc61552a5af99d1f4fb67d367b25f"
  }
 },
 "nbformat": 4,
 "nbformat_minor": 2
}