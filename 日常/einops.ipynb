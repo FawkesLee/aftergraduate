{
 "cells": [
  {
   "cell_type": "markdown",
   "source": [
    "einops的强项是把张量维度操作具象化。\n",
    "例如:\n",
    "```\n",
    "from einops import rearrange\n",
    "output_tesnor = rearrange(input_tensor,'h w c -> c h w')\n",
    "```"
   ],
   "metadata": {
    "collapsed": false,
    "pycharm": {
     "name": "#%% md\n"
    }
   }
  },
  {
   "cell_type": "code",
   "execution_count": 13,
   "outputs": [
    {
     "data": {
      "text/plain": "((808, 958, 3), dtype('float64'))"
     },
     "execution_count": 13,
     "metadata": {},
     "output_type": "execute_result"
    }
   ],
   "source": [
    "# 读入图片\n",
    "import numpy as np\n",
    "from PIL import Image\n",
    "import matplotlib.pyplot as plt\n",
    "plt.rcParams['font.sans-serif'] = ['SimHei']\n",
    "plt.rcParams['axes.unicode_minus'] = False\n",
    "img = np.array(Image.open('./data/images/001.png'))/ 255.\n",
    "img.shape, img.dtype"
   ],
   "metadata": {
    "collapsed": false,
    "pycharm": {
     "name": "#%%\n"
    }
   }
  },
  {
   "cell_type": "code",
   "execution_count": 4,
   "outputs": [],
   "source": [
    "# 载入einops\n",
    "from einops import rearrange, reduce, repeat"
   ],
   "metadata": {
    "collapsed": false,
    "pycharm": {
     "name": "#%%\n"
    }
   }
  },
  {
   "cell_type": "code",
   "execution_count": 5,
   "outputs": [
    {
     "data": {
      "text/plain": "((958, 808, 3), dtype('float64'))"
     },
     "execution_count": 5,
     "metadata": {},
     "output_type": "execute_result"
    }
   ],
   "source": [
    "#调换顺序\n",
    "out = rearrange(img, 'h w c -> w h c')\n",
    "out.shape, out.dtype"
   ],
   "metadata": {
    "collapsed": false,
    "pycharm": {
     "name": "#%%\n"
    }
   }
  },
  {
   "cell_type": "code",
   "execution_count": 14,
   "outputs": [
    {
     "name": "stdout",
     "output_type": "stream",
     "text": [
      "torch.Size([3, 3, 3, 9])\n"
     ]
    }
   ],
   "source": [
    "#相较于pytorch中的permute更高级的玩法:将某维度看作两种维度的乘，给出值，直接拆分\n",
    "import torch\n",
    "a = torch.randn(3,9,9)\n",
    "output = rearrange(a, 'c (r p) w -> c r p w', p = 3)\n",
    "print(output.shape)"
   ],
   "metadata": {
    "collapsed": false,
    "pycharm": {
     "name": "#%%\n"
    }
   }
  },
  {
   "cell_type": "code",
   "execution_count": 20,
   "outputs": [
    {
     "data": {
      "text/plain": "torch.Size([4, 4, 3])"
     },
     "execution_count": 20,
     "metadata": {},
     "output_type": "execute_result"
    }
   ],
   "source": [
    "# reduce操作\n",
    "a = torch.randn(3, 8, 8)\n",
    "output_tensor = reduce(a, 'c (h h2) (w w2) -> h w c', 'mean', h2=2, w2=2)\n",
    "output_tensor2 = reduce(a, 'h w c -> h w', 'mean') # 约简运算1\n",
    "output_tensor3 = reduce(a, 'h w c -> h w 1', 'mean') # 约简运算2\n",
    "output_tensor.shape"
   ],
   "metadata": {
    "collapsed": false,
    "pycharm": {
     "name": "#%%\n"
    }
   }
  },
  {
   "cell_type": "code",
   "execution_count": 24,
   "outputs": [
    {
     "data": {
      "text/plain": "torch.Size([3, 9, 9])"
     },
     "execution_count": 24,
     "metadata": {},
     "output_type": "execute_result"
    }
   ],
   "source": [
    "# repeat操作：指定复制的层数\n",
    "a = torch.randn(9, 9)\n",
    "output_tensor = repeat(a, 'h w -> c h w', c= 3)\n",
    "output_tensor.shape"
   ],
   "metadata": {
    "collapsed": false,
    "pycharm": {
     "name": "#%%\n"
    }
   }
  },
  {
   "cell_type": "markdown",
   "source": [
    "# 另外，einops可以直接嵌套在pytorch的layer层中"
   ],
   "metadata": {
    "collapsed": false,
    "pycharm": {
     "name": "#%% md\n"
    }
   }
  },
  {
   "cell_type": "code",
   "execution_count": null,
   "outputs": [],
   "source": [
    "# example given for pytorch, but code in other frameworks is almost identical\n",
    "from torch.nn import Sequential, Conv2d, MaxPool2d, Linear, ReLU\n",
    "from einops.layers.torch import Rearrange\n",
    "\n",
    "model = Sequential(\n",
    "    Conv2d(3, 6, kernel_size=5),\n",
    "    MaxPool2d(kernel_size=2),\n",
    "    Conv2d(6, 16, kernel_size=5),\n",
    "    MaxPool2d(kernel_size=2),\n",
    "    # flattening\n",
    "    Rearrange('b c h w -> b (c h w)'),\n",
    "    Linear(16*5*5, 120),\n",
    "    ReLU(),\n",
    "    Linear(120, 10),\n",
    ")"
   ],
   "metadata": {
    "collapsed": false,
    "pycharm": {
     "name": "#%%\n"
    }
   }
  }
 ],
 "metadata": {
  "kernelspec": {
   "display_name": "Python 3",
   "language": "python",
   "name": "python3"
  },
  "language_info": {
   "codemirror_mode": {
    "name": "ipython",
    "version": 2
   },
   "file_extension": ".py",
   "mimetype": "text/x-python",
   "name": "python",
   "nbconvert_exporter": "python",
   "pygments_lexer": "ipython2",
   "version": "2.7.6"
  }
 },
 "nbformat": 4,
 "nbformat_minor": 0
}