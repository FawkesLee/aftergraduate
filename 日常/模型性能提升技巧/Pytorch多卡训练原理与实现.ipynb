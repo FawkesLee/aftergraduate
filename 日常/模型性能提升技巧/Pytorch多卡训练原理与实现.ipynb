{
 "cells": [
  {
   "cell_type": "markdown",
   "source": [
    "# 一、多卡训练原理\n",
    "多卡训练流程一般如下：\n",
    "1. 指定主机节点\n",
    "2. 主机节点划分数据，一个batch数据平分到每个机器\n",
    "3. 模型从主机拷贝到各机器\n",
    "4. 每个机器进行前向传播\n",
    "5. 每个机器计算loss损失\n",
    "6. 主机收集所有loss结果，进行参数更新\n",
    "7. 将更新后的参数模型拷贝给各机器\n",
    "![Pytorch多卡训练原理](https://gitee.com/FawkesDoris/drawing-bed/raw/master/img/Pytorch多卡训练原理.png)"
   ],
   "metadata": {
    "collapsed": false,
    "pycharm": {
     "name": "#%% md\n"
    }
   }
  },
  {
   "cell_type": "markdown",
   "source": [
    "# 单机多卡训练\n",
    "使用`torch.nn.DataParallel(module, device_ids)`模块，module为模型，device_ids为并行的GPU id列表\n",
    "使用方式：将模型调用该接口执行操作\n",
    "`model = torch.nn.DataParallel(model)`\n",
    "示例：我们假设模型输入为(32, input_dim)，这里的 32 表示batch_size，模型输出为(32, output_dim)，使用 4 个GPU训练。nn.DataParallel起到的作用是将这 32 个样本拆成 4 份，发送给 4 个GPU 分别做 forward，然后生成 4 个大小为(8, output_dim)的输出，然后再将这 4 个输出都收集到cuda:0上并合并成(32, output_dim)。\n",
    "\n",
    "可以看出，nn.DataParallel没有改变模型的输入输出，因此其他部分的代码不需要做任何更改，非常方便。但弊端是，后续的loss计算只会在cuda:0上进行，没法并行，因此会导致负载不均衡的问题。\n",
    "\n",
    "通过在模型内置loss计算可以解决上述负载不均衡的情况，最后所得loss进行取平均。"
   ],
   "metadata": {
    "collapsed": false,
    "pycharm": {
     "name": "#%% md\n"
    }
   }
  },
  {
   "cell_type": "code",
   "execution_count": null,
   "outputs": [],
   "source": [
    "class Net:\n",
    "    def __init__(self,...):\n",
    "        # code\n",
    "\n",
    "    def forward(self, inputs, labels=None)\n",
    "        # outputs = fct(inputs)\n",
    "        # loss_fct = ...\n",
    "        if labels is not None:\n",
    "            loss = loss_fct(outputs, labels)  # 在训练模型时直接将labels传入模型，在forward过程中计算loss\n",
    "            return loss\n",
    "        else:\n",
    "            return outputs"
   ],
   "metadata": {
    "collapsed": false,
    "pycharm": {
     "name": "#%%\n"
    }
   }
  },
  {
   "cell_type": "markdown",
   "source": [
    "按照我们上面提到的模型并行逻辑，在每个GPU上会计算出一个loss，这些loss会被收集到cuda:0上并合并成长度为 4 的张量。这个时候在做backward的之前，必须对将这个loss张量合并成一个标量，一般直接取mean就可以。\n",
    "# 多机多卡训练\n",
    "使用`torch.nn.parallel.DistributedDataParallel`和`torch.utils.data.distributed.DistributedSampler`结合多进程实现。\n",
    "1. 从一开始就会启动多个进程(进程数小于等于GPU数)，每个进程独享一个GPU，每个进程都会独立地执行代码。这意味着每个进程都独立地初始化模型、训练，当然，在每次迭代过程中会通过进程间通信共享梯度，整合梯度，然后独立地更新参数。\n",
    "2. 每个进程都会初始化一份训练数据集，当然它们会使用数据集中的不同记录做训练，这相当于同样的模型喂进去不同的数据做训练，也就是所谓的数据并行。这是通过torch.utils.data.distributed.DistributedSampler函数实现的，不过逻辑上也不难想到，只要做一下数据partition，不同进程拿到不同的parition就可以了，官方有一个简单的demo，感兴趣的可以看一下代码实现：Distributed Training\n",
    "3. 进程通过local_rank变量来标识自己，local_rank为0的为master，其他是slave。这个变量是torch.distributed包帮我们创建的，使用方法如下："
   ],
   "metadata": {
    "collapsed": false,
    "pycharm": {
     "name": "#%% md\n"
    }
   }
  },
  {
   "cell_type": "code",
   "execution_count": null,
   "metadata": {
    "collapsed": true,
    "pycharm": {
     "name": "#%%\n"
    }
   },
   "outputs": [],
   "source": [
    "import argparse  # 必须引入 argparse 包\n",
    "parser = argparse.ArgumentParser()\n",
    "parser.add_argument(\"--local_rank\", type=int, default=-1)\n",
    "args = parser.parse_args()"
   ]
  },
  {
   "cell_type": "markdown",
   "source": [
    "必须使用如下方式运行代码:"
   ],
   "metadata": {
    "collapsed": false,
    "pycharm": {
     "name": "#%% md\n"
    }
   }
  },
  {
   "cell_type": "code",
   "execution_count": null,
   "outputs": [],
   "source": [
    "python -m torch.distributed.launch --nproc_per_node=2 --nnodes=1 train.py"
   ],
   "metadata": {
    "collapsed": false,
    "pycharm": {
     "name": "#%%\n"
    }
   }
  },
  {
   "cell_type": "markdown",
   "source": [
    "这样的话，torch.distributed.launch就以命令行参数的方式将args.local_rank变量注入到每个进程中，每个进程得到的变量值都不相同。比如使用 4 个GPU的话，则 4 个进程获得的args.local_rank值分别为0、1、2、3。\n",
    "\n",
    "上述命令行参数nproc_per_node表示每个节点需要创建多少个进程(使用几个GPU就创建几个)；nnodes表示使用几个节点，做单机多核训练设为1。\n",
    "\n",
    "4. 因为每个进程都会初始化一份模型，为保证模型初始化过程中生成的随机权重相同，需要设置随机种子。方法如下："
   ],
   "metadata": {
    "collapsed": false,
    "pycharm": {
     "name": "#%% md\n"
    }
   }
  },
  {
   "cell_type": "code",
   "execution_count": null,
   "outputs": [],
   "source": [
    "def set_seed(seed):\n",
    "    random.seed(seed)\n",
    "    np.random.seed(seed)\n",
    "    torch.manual_seed(seed)\n",
    "    torch.cuda.manual_seed_all(seed)"
   ],
   "metadata": {
    "collapsed": false,
    "pycharm": {
     "name": "#%%\n"
    }
   }
  },
  {
   "cell_type": "markdown",
   "source": [
    "使用方法如下："
   ],
   "metadata": {
    "collapsed": false,
    "pycharm": {
     "name": "#%% md\n"
    }
   }
  },
  {
   "cell_type": "code",
   "execution_count": null,
   "outputs": [],
   "source": [
    "from torch.utils.data.distributed import DistributedSampler  # 负责分布式dataloader创建，也就是实现上面提到的partition。\n",
    "\n",
    "# 负责创建 args.local_rank 变量，并接受 torch.distributed.launch 注入的值\n",
    "parser = argparse.ArgumentParser()\n",
    "parser.add_argument(\"--local_rank\", type=int, default=-1)\n",
    "args = parser.parse_args()\n",
    "\n",
    "# 每个进程根据自己的local_rank设置应该使用的GPU\n",
    "torch.cuda.set_device(args.local_rank)\n",
    "device = torch.device('cuda', args.local_rank)\n",
    "\n",
    "# 初始化分布式环境，主要用来帮助进程间通信\n",
    "torch.distributed.init_process_group(backend='nccl')\n",
    "\n",
    "# 固定随机种子\n",
    "seed = 42\n",
    "random.seed(seed)\n",
    "np.random.seed(seed)\n",
    "torch.manual_seed(seed)\n",
    "torch.cuda.manual_seed_all(seed)\n",
    "\n",
    "# 初始化模型\n",
    "model = Net()\n",
    "model.to(device)\n",
    "criterion = nn.CrossEntropyLoss()\n",
    "optimizer = optim.SGD(model.parameters(), lr=0.1)\n",
    "\n",
    "# 只 master 进程做 logging，否则输出会很乱\n",
    "if args.local_rank == 0:\n",
    "    tb_writer = SummaryWriter(comment='ddp-training')\n",
    "\n",
    "# 分布式数据集\n",
    "train_sampler = DistributedSampler(train_dataset)\n",
    "train_loader = torch.utils.data.DataLoader(train_dataset, sampler=train_sampler, batch_size=batch_size)  # 注意这里的batch_size是每个GPU上的batch_size\n",
    "\n",
    "# 分布式模型\n",
    "model = torch.nn.parallel.DistributedDataParallel(model, device_ids=[args.local_rank], output_device=args.local_rank, find_unused_parameters=True)"
   ],
   "metadata": {
    "collapsed": false,
    "pycharm": {
     "name": "#%%\n"
    }
   }
  },
  {
   "cell_type": "markdown",
   "source": [
    "torch.distributed.init_process_group()包含四个常用的参数：\n",
    "* backend: 后端, 实际上是多个机器之间交换数据的协议\n",
    "* init_method: 机器之间交换数据, 需要指定一个主节点, 而这个参数就是指定主节点的\n",
    "* world_size: 介绍都是说是进程, 实际就是机器的个数, 例如两台机器一起训练的话, world_size就设置为2\n",
    "* rank: 区分主节点和从节点的, 主节点为0, 剩余的为了1-(N-1), N为要使用的机器的数量, 也就是world_size\n",
    "## 后端初始化\n",
    "Pytorch提供的常见后端：\n",
    "![Pytorch后端](https://gitee.com/FawkesDoris/drawing-bed/raw/master/img/后端.jpeg)\n",
    "## 初始化init_method\n",
    "1. TCP初始化\n",
    "```\n",
    "import torch.distributed as dist\n",
    "\n",
    "dist.init_process_group(backend, init_method='tcp://10.1.1.20:23456',\n",
    "                        rank=rank, world_size=world_size)\n",
    "```\n",
    "注意这里使用格式为tcp://ip:端口号, 首先ip地址是你的主节点的ip地址, 也就是rank参数为0的那个主机的ip地址, 然后再选择一个空闲的端口号, 这样就可以初始化init_method了.\n",
    "2. 共享文件系统初始化\n",
    "```\n",
    "import torch.distributed as dist\n",
    "\n",
    "dist.init_process_group(backend, init_method='file:///mnt/nfs/sharedfile',\n",
    "                        rank=rank, world_size=world_size)\n",
    "```\n",
    "## 初始化rank和world_size\n",
    "需要确保, 不同机器的rank值不同, 但是主机的rank必须为0, 而且使用init_method的ip一定是rank为0的主机, 其次world_size是主机数量，该数值不可以随便设定，若参与训练的主机数量达不到world_size的设置值，代码不会执行。\n",
    "# 模型保存\n",
    "模型的保存与加载，与单GPU的方式有所不同。这里通通将参数以cpu的方式save进存储, 因为如果是保存的GPU上参数，pth文件中会记录参数属于的GPU号，则加载时会加载到相应的GPU上，这样就会导致如果你GPU数目不够时会在加载模型时报错\n",
    "\n",
    "或者模型保存时控制进程，只在主进程进行保存。\n",
    "模型保存都是一致的，不过分布式运行有多个进程在同时跑，所以会保存多个模型到存储上，如果使用共享存储就要注意文件名的问题，当然一般只在rank0进程上保存参数即可，因为所有进程的模型参数是同步的。\n",
    "`torch.save(model.module.cpu().state_dict(), \"model.pth\")`"
   ],
   "metadata": {
    "collapsed": false,
    "pycharm": {
     "name": "#%% md\n"
    }
   }
  },
  {
   "cell_type": "markdown",
   "source": [
    "参数加载:`param=torch.load(\"model.pth\")`\n",
    "以下为huggingface/transformer代码中用到的模型保存代码："
   ],
   "metadata": {
    "collapsed": false,
    "pycharm": {
     "name": "#%% md\n"
    }
   }
  },
  {
   "cell_type": "code",
   "execution_count": null,
   "outputs": [],
   "source": [
    "if torch.distributed.get_rank() == 0:\n",
    "    model_to_save = model.module if hasattr(model, \"module\") else model  # Take care of distributed/parallel training\n",
    "    model_to_save.save_pretrained(args.output_dir)\n",
    "    tokenizer.save_pretrained(args.output_dir)"
   ],
   "metadata": {
    "collapsed": false,
    "pycharm": {
     "name": "#%%\n"
    }
   }
  }
 ],
 "metadata": {
  "kernelspec": {
   "display_name": "Python 3",
   "language": "python",
   "name": "python3"
  },
  "language_info": {
   "codemirror_mode": {
    "name": "ipython",
    "version": 2
   },
   "file_extension": ".py",
   "mimetype": "text/x-python",
   "name": "python",
   "nbconvert_exporter": "python",
   "pygments_lexer": "ipython2",
   "version": "2.7.6"
  }
 },
 "nbformat": 4,
 "nbformat_minor": 0
}