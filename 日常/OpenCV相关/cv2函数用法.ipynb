{
 "cells": [
  {
   "cell_type": "markdown",
   "source": [
    "图像裁剪\n",
    "\n",
    "`cv2.resize(InputArray src, OutputArray dst, Size, fx, fy, interpolation)`\n",
    "\n",
    "参数解释：\n",
    "\n",
    "|参数名称|解释|\n",
    "|:--|:--|\n",
    "|InputArray Src|输入图片|\n",
    "|OutputArray dst|输出图片|\n",
    "|Size|输出图片尺寸|\n",
    "|fx,fy|沿x轴、y轴的缩放系数|\n",
    "|interpolation|插入方式|\n",
    "\n",
    "Interpolation选项所用的插值方法:\n",
    "\n",
    "|方法|解释|\n",
    "|:---|:---|\n",
    "|INTER_NEAREST|最近邻插值|\n",
    "|INTER_LINEAR|双线性插值（默认设置）|\n",
    "|INTER_AREA|使用像素区域关系进行重采样。|\n",
    "|INTER_CUBIC|4x4像素邻域的双三次插值|\n",
    "|INTER_LANCZOS4|8x8像素邻域的Lanczos插值|\n",
    "\n",
    "注意：输出尺寸为(宽，高)"
   ],
   "metadata": {
    "collapsed": false
   }
  },
  {
   "cell_type": "code",
   "execution_count": 1,
   "outputs": [
    {
     "name": "stdout",
     "output_type": "stream",
     "text": [
      "(512, 512, 3)\n"
     ]
    }
   ],
   "source": [
    "import cv2\n",
    "#读取图片\n",
    "img = cv2.imread('test1.jpg')\n",
    "#打印图片尺寸\n",
    "print(img.shape)\n",
    "#将图片高宽分别赋值给x和y\n",
    "x,y = img.shape[0:2]\n",
    "#显示原图\n",
    "cv2.imshow(\"OriginalPicture\",img)\n",
    "\n",
    "#缩放到原来的二分之一，输出尺寸格式为(宽，高)\n",
    "img_test = cv2.resize(img,(int(y/2),int(x/2)))\n",
    "cv2.imshow(\"resize0\",img_test)\n",
    "#控制显示时间,不填写参数则一直显示\n",
    "# cv2.waitKey()\n",
    "#最邻近值法缩放，缩放到原来的四分之一\n",
    "img_test2 = cv2.resize(img,(0,0),fx=0.25, fy=0.25, interpolation=cv2.INTER_NEAREST)\n",
    "cv2.imshow('resize1', img_test2)\n",
    "cv2.waitKey()\n",
    "cv2.destroyAllWindows()"
   ],
   "metadata": {
    "collapsed": false,
    "pycharm": {
     "name": "#%%\n"
    }
   }
  },
  {
   "cell_type": "markdown",
   "source": [
    "# 图像旋转\n",
    "`cv2.getRotationMatrix2D(center,angle,scale)`\n",
    "\n",
    "函数说明：\n",
    "\n",
    "center: 图片旋转中心(元组)\n",
    "\n",
    "angle：旋转角度，正值逆时针旋转，负值顺时针旋转\n",
    "\n",
    "scale：旋转前后图像的缩放比例，1表示等比例缩放\n",
    "\n",
    "# 图像变换\n",
    "\n",
    "`cv2.warpAffine(src, M, dsize, dst, flags, borderMode, borderValue)`\n",
    "\n",
    "参数说明：\n",
    "\n",
    "src:输入图像，单通道或彩色均可\n",
    "\n",
    "M：变换矩阵，一般反映平移或旋转关系\n",
    "\n",
    "dsize：输出图像的大小\n",
    "\n",
    "dst:仿射变换后的输出图像\n",
    "\n",
    "flags: 插值方法的组合，默认为flag=cv2.INTER_LINEAR,表示线性插值\n",
    "\n",
    "borderMode:边界像素模式(int)\n",
    "\n",
    "borderValue:边界填充值，默认为0，填充黑色\n",
    "\n",
    "通常用前三个参数，flags取值如下：\n",
    "\n",
    "|flags取值|含义|\n",
    "|:--|:--|\n",
    "|cv2.INTER_LINEAR|线性插值（默认）|\n",
    "|cv2.INTER_NEAREST|最近邻插值|\n",
    "|cv2.INTER_AREA|区域插值|\n",
    "|cv2.INTER_CUBIC|三次样条插值|\n",
    "|cv2.INTER_LANCZOS4|Lanczos插值|"
   ],
   "metadata": {
    "collapsed": false,
    "pycharm": {
     "name": "#%% md\n"
    }
   }
  },
  {
   "cell_type": "code",
   "execution_count": 4,
   "outputs": [],
   "source": [
    "#通用写法\n",
    "import random,cv2\n",
    "# 定义旋转函数\n",
    "def ImageRotate(image):\n",
    "    height, width = image.shape[:2]    # 输入(H,W,C)，取 H，W 的值\n",
    "    center = (width / 2, height / 2)   # 绕图片中心进行旋转\n",
    "    angle = random.randint(-180, 180)  # 旋转方向取（-180，180）中的随机整数值，负为逆时针，正为顺势针\n",
    "    scale = 0.8                        # 将图像缩放为80%\n",
    "    # 获得旋转矩阵\n",
    "    M = cv2.getRotationMatrix2D(center,angle , scale)\n",
    "    # 进行仿射变换，边界填充为255，即白色，默认为0，即黑色\n",
    "    image_rotation = cv2.warpAffine(src=image, M=M, dsize=(height, width), borderValue=(255, 255, 255))\n",
    "    return image_rotation"
   ],
   "metadata": {
    "collapsed": false,
    "pycharm": {
     "name": "#%%\n"
    }
   }
  },
  {
   "cell_type": "code",
   "execution_count": 5,
   "outputs": [
    {
     "ename": "TypeError",
     "evalue": "destroyWindow() missing required argument 'winname' (pos 1)",
     "output_type": "error",
     "traceback": [
      "\u001B[1;31m---------------------------------------------------------------------------\u001B[0m",
      "\u001B[1;31mTypeError\u001B[0m                                 Traceback (most recent call last)",
      "\u001B[1;32m<ipython-input-5-f57eb20d9628>\u001B[0m in \u001B[0;36m<module>\u001B[1;34m\u001B[0m\n\u001B[0;32m      4\u001B[0m \u001B[0mcv2\u001B[0m\u001B[1;33m.\u001B[0m\u001B[0mimshow\u001B[0m\u001B[1;33m(\u001B[0m\u001B[1;34m\"test\"\u001B[0m\u001B[1;33m,\u001B[0m\u001B[0mimage_rotation\u001B[0m\u001B[1;33m)\u001B[0m\u001B[1;33m\u001B[0m\u001B[1;33m\u001B[0m\u001B[0m\n\u001B[0;32m      5\u001B[0m \u001B[0mcv2\u001B[0m\u001B[1;33m.\u001B[0m\u001B[0mwaitKey\u001B[0m\u001B[1;33m(\u001B[0m\u001B[1;33m)\u001B[0m\u001B[1;33m\u001B[0m\u001B[1;33m\u001B[0m\u001B[0m\n\u001B[1;32m----> 6\u001B[1;33m \u001B[0mcv2\u001B[0m\u001B[1;33m.\u001B[0m\u001B[0mdestroyWindow\u001B[0m\u001B[1;33m(\u001B[0m\u001B[1;33m)\u001B[0m\u001B[1;33m\u001B[0m\u001B[1;33m\u001B[0m\u001B[0m\n\u001B[0m",
      "\u001B[1;31mTypeError\u001B[0m: destroyWindow() missing required argument 'winname' (pos 1)"
     ]
    }
   ],
   "source": [
    "#实例\n",
    "image = cv2.imread('test1.jpg')\n",
    "image_rotation = ImageRotate(image)\n",
    "cv2.imshow(\"test\",image_rotation)\n",
    "cv2.waitKey()\n",
    "cv2.destroyWindow()"
   ],
   "metadata": {
    "collapsed": false,
    "pycharm": {
     "name": "#%%\n"
    }
   }
  }
 ],
 "metadata": {
  "kernelspec": {
   "name": "pycharm-db2709c7",
   "language": "python",
   "display_name": "PyCharm (Python)"
  },
  "language_info": {
   "codemirror_mode": {
    "name": "ipython",
    "version": 2
   },
   "file_extension": ".py",
   "mimetype": "text/x-python",
   "name": "python",
   "nbconvert_exporter": "python",
   "pygments_lexer": "ipython2",
   "version": "2.7.6"
  }
 },
 "nbformat": 4,
 "nbformat_minor": 0
}