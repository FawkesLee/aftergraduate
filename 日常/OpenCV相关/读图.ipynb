{
 "cells": [
  {
   "cell_type": "markdown",
   "metadata": {
    "pycharm": {
     "name": "#%% md\n"
    }
   },
   "source": [
    "# CV2读取图像"
   ]
  },
  {
   "cell_type": "code",
   "execution_count": 5,
   "metadata": {
    "pycharm": {
     "name": "#%%\n"
    }
   },
   "outputs": [
    {
     "name": "stdout",
     "output_type": "stream",
     "text": [
      "img_shape (512, 512, 3)\n",
      "img_shape (512, 512, 3)\n",
      "img_size 786432\n",
      "img_dtype uint8\n",
      "img [[[ 97 160 213]\n",
      "  [ 97 160 213]\n",
      "  [ 97 160 213]\n",
      "  ...\n",
      "  [ 94 163 222]\n",
      "  [ 94 163 222]\n",
      "  [ 94 163 222]]\n",
      "\n",
      " [[ 97 160 213]\n",
      "  [ 97 160 213]\n",
      "  [ 97 160 213]\n",
      "  ...\n",
      "  [ 94 163 222]\n",
      "  [ 94 163 222]\n",
      "  [ 94 163 222]]\n",
      "\n",
      " [[ 97 160 213]\n",
      "  [ 97 160 213]\n",
      "  [ 97 160 213]\n",
      "  ...\n",
      "  [ 94 163 222]\n",
      "  [ 94 163 222]\n",
      "  [ 94 163 222]]\n",
      "\n",
      " ...\n",
      "\n",
      " [[124 109  76]\n",
      "  [119 104  71]\n",
      "  [116 101  68]\n",
      "  ...\n",
      "  [132 146  59]\n",
      "  [126 138  52]\n",
      "  [144 157  69]]\n",
      "\n",
      " [[103  87  54]\n",
      "  [102  86  53]\n",
      "  [108  92  59]\n",
      "  ...\n",
      "  [136 149  61]\n",
      "  [124 137  49]\n",
      "  [134 147  57]]\n",
      "\n",
      " [[ 73  57  24]\n",
      "  [ 90  74  41]\n",
      "  [ 98  82  49]\n",
      "  ...\n",
      "  [147 160  72]\n",
      "  [128 141  51]\n",
      "  [126 139  49]]]\n",
      "img_type <class 'numpy.ndarray'>\n"
     ]
    }
   ],
   "source": [
    "import cv2\n",
    "import numpy as np\n",
    "import matplotlib.pyplot as plt\n",
    "img = cv2.imread('test1.jpg')  # HWC\n",
    "print('img_shape',img.shape)     #读取数据的形状\n",
    "img = cv2.cvtColor(img, cv2.COLOR_BGR2RGB)\n",
    "print(\"img_shape\",img.shape)\n",
    "print('img_size',img.size)       #读取数据的大小\n",
    "print('img_dtype',img.dtype)     #读取数据的编码格式\n",
    "print('img',img)                 #打印img数据\n",
    "print('img_type',type(img))      #读取img的数据类型\n",
    "\n",
    "# b, g, r = cv2.split(img)    #通道分离,每个都是(H,W)\n",
    "# zeros = np.zeros(img.shape[:2],dtype='uint8') # (H,W)\n",
    "# merge_r = cv2.merge([r,zeros,zeros]) # HWC\n",
    "# merge_g = cv2.merge([zeros,g,zeros])\n",
    "# merge_b = cv2.merge([zeros,zeros,b])\n",
    "# print(merge_r)\n",
    "# plt.subplot(231);plt.imshow(b)\n",
    "# plt.subplot(232);plt.imshow(g)\n",
    "# plt.subplot(233);plt.imshow(r)\n",
    "# plt.subplot(234);plt.imshow(merge_r)\n",
    "# plt.subplot(235);plt.imshow(merge_g)\n",
    "# plt.subplot(236);plt.imshow(merge_b)\n",
    "# plt.show()\n",
    "\n",
    "# cv2.imshow('img',img)   #显示图片\n",
    "# cv2.waitKey(0)\n",
    "# cv2.destroyAllWindows()"
   ]
  },
  {
   "cell_type": "markdown",
   "metadata": {
    "pycharm": {
     "name": "#%% md\n"
    }
   },
   "source": [
    "# matplotlib读取图像"
   ]
  },
  {
   "cell_type": "code",
   "execution_count": 7,
   "metadata": {
    "pycharm": {
     "name": "#%%\n"
    }
   },
   "outputs": [
    {
     "name": "stdout",
     "output_type": "stream",
     "text": [
      "img_shape (512, 512, 3)\n",
      "img_size 786432\n",
      "img_dtype uint8\n",
      "img [[[ 97 160 213]\n",
      "  [ 97 160 213]\n",
      "  [ 97 160 213]\n",
      "  ...\n",
      "  [ 94 163 222]\n",
      "  [ 94 163 222]\n",
      "  [ 94 163 222]]\n",
      "\n",
      " [[ 97 160 213]\n",
      "  [ 97 160 213]\n",
      "  [ 97 160 213]\n",
      "  ...\n",
      "  [ 94 163 222]\n",
      "  [ 94 163 222]\n",
      "  [ 94 163 222]]\n",
      "\n",
      " [[ 97 160 213]\n",
      "  [ 97 160 213]\n",
      "  [ 97 160 213]\n",
      "  ...\n",
      "  [ 94 163 222]\n",
      "  [ 94 163 222]\n",
      "  [ 94 163 222]]\n",
      "\n",
      " ...\n",
      "\n",
      " [[124 109  76]\n",
      "  [119 104  71]\n",
      "  [116 101  68]\n",
      "  ...\n",
      "  [133 145  59]\n",
      "  [126 138  52]\n",
      "  [144 156  70]]\n",
      "\n",
      " [[103  87  54]\n",
      "  [102  86  53]\n",
      "  [108  92  59]\n",
      "  ...\n",
      "  [136 149  61]\n",
      "  [124 137  49]\n",
      "  [134 147  59]]\n",
      "\n",
      " [[ 73  56  26]\n",
      "  [ 90  73  43]\n",
      "  [ 98  82  49]\n",
      "  ...\n",
      "  [147 160  72]\n",
      "  [128 141  51]\n",
      "  [126 139  49]]]\n",
      "img_type <class 'numpy.ndarray'>\n"
     ]
    }
   ],
   "source": [
    "import cv2\n",
    "import matplotlib.pyplot as plt\n",
    "import numpy as np\n",
    "img = plt.imread('test1.jpg')  #HWC\n",
    "print('img_shape',img.shape)     #读取数据的形状\n",
    "print('img_size',img.size)       #读取数据的大小\n",
    "print('img_dtype',img.dtype)     #读取数据的编码格式\n",
    "print('img',img)                 #打印img数据\n",
    "print('img_type',type(img))      #读取img的数据类型\n",
    "\n",
    "# r, g, b = cv2.split(img)    #通道分离\n",
    "# # print(img.shape[:2])\n",
    "# zeros = np.zeros(img.shape[:2],dtype='uint8')\n",
    "# merge_r = cv2.merge([r,zeros,zeros])\n",
    "# merge_g = cv2.merge([zeros,g,zeros])\n",
    "# merge_b = cv2.merge([zeros,zeros,b])\n",
    "\n",
    "# plt.subplot(231);plt.imshow(r)\n",
    "# plt.subplot(232);plt.imshow(g)\n",
    "# plt.subplot(233);plt.imshow(b)\n",
    "# plt.subplot(234);plt.imshow(merge_r)\n",
    "# plt.subplot(235);plt.imshow(merge_g)\n",
    "# plt.subplot(236);plt.imshow(merge_b)\n",
    "# plt.show()\n",
    "\n",
    "# plt.imshow(img)\n",
    "# plt.show()\n",
    "\n",
    "# # cv2.imshow('img',img)   #显示图片\n",
    "# cv2.waitKey(0)\n",
    "# cv2.destroyAllWindows()"
   ]
  }
 ],
 "metadata": {
  "interpreter": {
   "hash": "ad2bdc8ecc057115af97d19610ffacc2b4e99fae6737bb82f5d7fb13d2f2c186"
  },
  "kernelspec": {
   "display_name": "Python 3.8.8 ('base')",
   "language": "python",
   "name": "python3"
  },
  "language_info": {
   "codemirror_mode": {
    "name": "ipython",
    "version": 3
   },
   "file_extension": ".py",
   "mimetype": "text/x-python",
   "name": "python",
   "nbconvert_exporter": "python",
   "pygments_lexer": "ipython3",
   "version": "3.8.8"
  },
  "orig_nbformat": 4
 },
 "nbformat": 4,
 "nbformat_minor": 2
}
