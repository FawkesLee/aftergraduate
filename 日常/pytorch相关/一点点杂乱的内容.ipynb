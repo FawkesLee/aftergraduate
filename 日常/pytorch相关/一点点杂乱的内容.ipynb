{
 "cells": [
  {
   "cell_type": "markdown",
   "metadata": {
    "collapsed": true,
    "pycharm": {
     "name": "#%% md\n"
    }
   },
   "source": [
    "# 随机种子\n",
    "1. `torch.manual_seed(seed:int)`用于生成随机种子，以保证初始化的参数可复现。"
   ]
  },
  {
   "cell_type": "code",
   "execution_count": 7,
   "outputs": [
    {
     "name": "stdout",
     "output_type": "stream",
     "text": [
      "tensor([[0.6147, 0.3810]])\n"
     ]
    }
   ],
   "source": [
    "import torch\n",
    "torch.manual_seed(2)\n",
    "print(torch.rand(1,2))"
   ],
   "metadata": {
    "collapsed": false,
    "pycharm": {
     "name": "#%%\n"
    }
   }
  },
  {
   "cell_type": "markdown",
   "source": [
    "`torch.cuda.manual_seed(int.seed)`为当前GPU设置随机种子\n",
    "`torch.cuda.manual_seed_all(int.seed)`为所有的GPU设置种子"
   ],
   "metadata": {
    "collapsed": false,
    "pycharm": {
     "name": "#%% md\n"
    }
   }
  },
  {
   "cell_type": "markdown",
   "source": [
    "`tensor。uniform`"
   ],
   "metadata": {
    "collapsed": false,
    "pycharm": {
     "name": "#%% md\n"
    }
   }
  },
  {
   "cell_type": "markdown",
   "source": [
    "`tensor.uniform_()` 令tensor从均匀分布中抽样数值进行填充"
   ],
   "metadata": {
    "collapsed": false,
    "pycharm": {
     "name": "#%% md\n"
    }
   }
  },
  {
   "cell_type": "code",
   "execution_count": 12,
   "outputs": [
    {
     "name": "stdout",
     "output_type": "stream",
     "text": [
      "tensor([[ 0.5731,  0.5409],\n",
      "        [-0.3919, -1.0427]])\n",
      "tensor([[-2.9384, -0.2038],\n",
      "        [-0.2377,  2.1279]])\n"
     ]
    }
   ],
   "source": [
    "import torch\n",
    "A = torch.randn(2,2)\n",
    "print(A)\n",
    "B = A.uniform_(-3,3)\n",
    "print(B)"
   ],
   "metadata": {
    "collapsed": false,
    "pycharm": {
     "name": "#%%\n"
    }
   }
  },
  {
   "cell_type": "code",
   "execution_count": null,
   "outputs": [],
   "source": [],
   "metadata": {
    "collapsed": false,
    "pycharm": {
     "name": "#%%\n"
    }
   }
  }
 ],
 "metadata": {
  "kernelspec": {
   "name": "pycharm-db2709c7",
   "language": "python",
   "display_name": "PyCharm (Python)"
  },
  "language_info": {
   "codemirror_mode": {
    "name": "ipython",
    "version": 2
   },
   "file_extension": ".py",
   "mimetype": "text/x-python",
   "name": "python",
   "nbconvert_exporter": "python",
   "pygments_lexer": "ipython2",
   "version": "2.7.6"
  }
 },
 "nbformat": 4,
 "nbformat_minor": 0
}