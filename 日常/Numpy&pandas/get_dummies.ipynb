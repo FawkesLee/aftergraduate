{
 "cells": [
  {
   "cell_type": "markdown",
   "source": [
    "pandas.get_dummies是利用pandas实现onehot encoding的方式，详情参考官方文档\n",
    "https://pandas.pydata.org/pandas-docs/stable/reference/api/pandas.get_dummies.html\n",
    "`pandas.get_dummies(data, prefix=None, prefix_sep='_', dummy_na=False, columns=None, sparse=False, drop_first=False)[source]`"
   ],
   "metadata": {
    "collapsed": false
   }
  },
  {
   "cell_type": "code",
   "execution_count": 16,
   "outputs": [
    {
     "name": "stdout",
     "output_type": "stream",
     "text": [
      "   color class\n",
      "0  green     A\n",
      "1    red     B\n",
      "2   blue     A\n"
     ]
    }
   ],
   "source": [
    "# 例子\n",
    "import pandas as pd\n",
    "df = pd.DataFrame([\n",
    "            ['green' , 'A'],\n",
    "            ['red'   , 'B'],\n",
    "            ['blue'  , 'A']])\n",
    "\n",
    "df.columns = ['color',  'class']\n",
    "print(df)"
   ],
   "metadata": {
    "collapsed": false,
    "pycharm": {
     "name": "#%%\n"
    }
   }
  },
  {
   "cell_type": "code",
   "execution_count": 6,
   "outputs": [
    {
     "name": "stdout",
     "output_type": "stream",
     "text": [
      "   color_blue  color_green  color_red  class_A  class_B\n",
      "0           0            1          0        1        0\n",
      "1           0            0          1        0        1\n",
      "2           1            0          0        1        0\n"
     ]
    }
   ],
   "source": [
    "#使用get_dummies后\n",
    "df = pd.get_dummies(df)\n",
    "print(df)"
   ],
   "metadata": {
    "collapsed": false,
    "pycharm": {
     "name": "#%%\n"
    }
   }
  },
  {
   "cell_type": "code",
   "execution_count": 9,
   "outputs": [
    {
     "data": {
      "text/plain": "   blue  green  red\n0     0      1    0\n1     0      0    1\n2     1      0    0",
      "text/html": "<div>\n<style scoped>\n    .dataframe tbody tr th:only-of-type {\n        vertical-align: middle;\n    }\n\n    .dataframe tbody tr th {\n        vertical-align: top;\n    }\n\n    .dataframe thead th {\n        text-align: right;\n    }\n</style>\n<table border=\"1\" class=\"dataframe\">\n  <thead>\n    <tr style=\"text-align: right;\">\n      <th></th>\n      <th>blue</th>\n      <th>green</th>\n      <th>red</th>\n    </tr>\n  </thead>\n  <tbody>\n    <tr>\n      <th>0</th>\n      <td>0</td>\n      <td>1</td>\n      <td>0</td>\n    </tr>\n    <tr>\n      <th>1</th>\n      <td>0</td>\n      <td>0</td>\n      <td>1</td>\n    </tr>\n    <tr>\n      <th>2</th>\n      <td>1</td>\n      <td>0</td>\n      <td>0</td>\n    </tr>\n  </tbody>\n</table>\n</div>"
     },
     "execution_count": 9,
     "metadata": {},
     "output_type": "execute_result"
    }
   ],
   "source": [
    "# 对指定列进行get)dummies\n",
    "pd.get_dummies(df.color)"
   ],
   "metadata": {
    "collapsed": false,
    "pycharm": {
     "name": "#%%\n"
    }
   }
  },
  {
   "cell_type": "code",
   "execution_count": 4,
   "outputs": [
    {
     "name": "stdout",
     "output_type": "stream",
     "text": [
      "   color class  blue  green  red\n",
      "0  green     A     0      1    0\n",
      "1    red     B     0      0    1\n",
      "2   blue     A     1      0    0\n"
     ]
    }
   ],
   "source": [
    "#将指定列进行get_dummies后合并到元数据中\n",
    "import pandas as pd\n",
    "df = pd.DataFrame([\n",
    "            ['green' , 'A'],\n",
    "            ['red'   , 'B'],\n",
    "            ['blue'  , 'A']])\n",
    "df.columns = ['color',  'class']\n",
    "df = df.join(pd.get_dummies(df.color))\n",
    "print(df)"
   ],
   "metadata": {
    "collapsed": false,
    "pycharm": {
     "name": "#%%\n"
    }
   }
  }
 ],
 "metadata": {
  "kernelspec": {
   "name": "pycharm-db2709c7",
   "language": "python",
   "display_name": "PyCharm (Python)"
  },
  "language_info": {
   "codemirror_mode": {
    "name": "ipython",
    "version": 2
   },
   "file_extension": ".py",
   "mimetype": "text/x-python",
   "name": "python",
   "nbconvert_exporter": "python",
   "pygments_lexer": "ipython2",
   "version": "2.7.6"
  }
 },
 "nbformat": 4,
 "nbformat_minor": 0
}