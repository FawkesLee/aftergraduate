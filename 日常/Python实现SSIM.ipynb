{
 "cells": [
  {
   "cell_type": "markdown",
   "metadata": {},
   "source": [
    "# 用Python实现SSIM（结构相似性）"
   ]
  },
  {
   "cell_type": "code",
   "execution_count": 12,
   "metadata": {},
   "outputs": [
    {
     "name": "stdout",
     "output_type": "stream",
     "text": [
      "0.11980213361715926\n"
     ]
    }
   ],
   "source": [
    "import numpy as np\n",
    "from PIL import Image\n",
    "import cv2\n",
    "from scipy.signal import convolve2d\n",
    " \n",
    "def matlab_style_gauss2D(shape=(3,3),sigma=0.5):\n",
    "    #高斯加窗\n",
    "    m,n = [(ss-1.)/2. for ss in shape]\n",
    "    y,x = np.ogrid[-m:m+1,-n:n+1]\n",
    "    h = np.exp( -(x*x + y*y) / (2.*sigma*sigma))\n",
    "    h[ h < np.finfo(h.dtype).eps*h.max() ] = 0\n",
    "    sumh = h.sum()\n",
    "    if sumh != 0:\n",
    "        h /= sumh\n",
    "    return h\n",
    " \n",
    "def filter2(x, kernel, mode='same'):\n",
    "    #窗口内进行高斯卷积，类似加权平均\n",
    "    #np.rot90(image) 将矩阵img逆时针旋转90°\n",
    "    return convolve2d(x, np.rot90(kernel, 2), mode=mode)\n",
    " \n",
    "def compute_ssim(im1, im2, k1=0.01, k2=0.03, win_size=11, L=255):\n",
    "    '''\n",
    "    1. 修改尺寸，灰度化\n",
    "    2. 加窗\n",
    "    3. 计算\n",
    "    '''\n",
    "    M, N = im1.shape\n",
    "    C1 = (k1*L)**2\n",
    "    C2 = (k2*L)**2\n",
    "    window = matlab_style_gauss2D(shape=(win_size,win_size), sigma=1.5)\n",
    "    window = window/np.sum(np.sum(window))\n",
    " \n",
    "    if im1.dtype == np.uint8:\n",
    "        im1 = np.double(im1)\n",
    "    if im2.dtype == np.uint8:\n",
    "        im2 = np.double(im2)\n",
    " \n",
    "    mu1 = filter2(im1, window, 'valid')\n",
    "    mu2 = filter2(im2, window, 'valid')\n",
    "    mu1_sq = mu1 * mu1\n",
    "    mu2_sq = mu2 * mu2\n",
    "    mu1_mu2 = mu1 * mu2\n",
    "    sigma1_sq = filter2(im1*im1, window, 'valid') - mu1_sq\n",
    "    sigma2_sq = filter2(im2*im2, window, 'valid') - mu2_sq\n",
    "    sigmal2 = filter2(im1*im2, window, 'valid') - mu1_mu2\n",
    " \n",
    "    ssim_map = ((2*mu1_mu2+C1) * (2*sigmal2+C2)) / ((mu1_sq+mu2_sq+C1) * (sigma1_sq+sigma2_sq+C2))\n",
    " \n",
    "    return np.mean(np.mean(ssim_map))\n",
    " \n",
    "if __name__ == \"__main__\":\n",
    "    image1 = Image.open('./data/image1.jpg')\n",
    "    image2 = Image.open('./data/image2.jpg')\n",
    "    # image1 = cv2.imread('./data/image1.jpg')\n",
    "    # image2 = cv2.imread('./data/image2.jpg')\n",
    "    print(compute_ssim(np.array(image1.resize((8, 8), Image.ANTIALIAS).convert('L'), 'f'),np.array(image2.resize((8, 8), Image.ANTIALIAS).convert('L'), 'f')))"
   ]
  }
 ],
 "metadata": {
  "interpreter": {
   "hash": "b3ba2566441a7c06988d0923437866b63cedc61552a5af99d1f4fb67d367b25f"
  },
  "kernelspec": {
   "display_name": "Python 3.8.11 64-bit ('base': conda)",
   "name": "python3"
  },
  "language_info": {
   "codemirror_mode": {
    "name": "ipython",
    "version": 3
   },
   "file_extension": ".py",
   "mimetype": "text/x-python",
   "name": "python",
   "nbconvert_exporter": "python",
   "pygments_lexer": "ipython3",
   "version": "3.8.11"
  },
  "orig_nbformat": 4
 },
 "nbformat": 4,
 "nbformat_minor": 2
}
